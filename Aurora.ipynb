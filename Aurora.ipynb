{
 "cells": [
  {
   "cell_type": "code",
   "execution_count": 234,
   "outputs": [],
   "source": [
    "## Восстановление базы данных SoproImaging"
   ],
   "metadata": {
    "collapsed": false,
    "pycharm": {
     "name": "#%%\n"
    }
   }
  },
  {
   "cell_type": "code",
   "execution_count": 235,
   "metadata": {
    "collapsed": true,
    "pycharm": {
     "name": "#%%\n"
    }
   },
   "outputs": [],
   "source": [
    "import os\n",
    "import pandas as pd"
   ]
  },
  {
   "cell_type": "code",
   "execution_count": null,
   "outputs": [],
   "source": [
    "path =\"C:\\_Work\\Aurora\" # Путь к каталогам со снимками\n",
    "filelist = []\n",
    "for root, dirs, files in os.walk(path):\n",
    "    for file in files:\n",
    "        if file=='Patient.dat': # Имя файла где хранятся данные\n",
    "            filelist.append(os.path.join(root,file)) # Создаем словарь с указанным выше типом файлов"
   ],
   "metadata": {
    "collapsed": false,
    "pycharm": {
     "name": "#%%\n",
     "is_executing": true
    }
   }
  },
  {
   "cell_type": "code",
   "execution_count": 169,
   "outputs": [],
   "source": [
    "# 2;Иван;Иванов;;2014-02-05;0 / Формат хранения БД в файле\n",
    "\n",
    "bd_patient = []\n",
    "for j in range(len(filelist)):\n",
    "    file = open(filelist[j],'r', encoding='utf-16-le') # Формат файла БД в формате UTF-16\n",
    "    patient = file.read().split('\\n') # Делим построчно каждый файл в каталоге\n",
    "    num_patient = file.name.split('\\\\')[-2] # Выделяем предпоследний каталог, это и будет ID пациента\n",
    "\n",
    "    str_patient = ''\n",
    "    Nom = ''\n",
    "    Prenom = ''\n",
    "    DateNaissance = ''\n",
    "    Praticien = 0\n",
    "\n",
    "    for i in range(len(patient)):\n",
    "        param = patient[i].split('=')   # Читаем построчно и делием на параметр и значение\n",
    "        if param[0] == 'Nom':\n",
    "            Nom = param[1]              # Имя Отчество\n",
    "        if param[0] == 'Prenom':\n",
    "            Prenom = param[1]           # Фамилия\n",
    "        if param[0] == 'Praticien':\n",
    "            Praticien = param[1]        # Количество снимков, следующий\n",
    "        if param[0] == 'DateNaissance':\n",
    "            DateNaissance = param[1]    # Дата рождения\n",
    "\n",
    "    # Формируем массив с БД\n",
    "    bd_patient.append(str(num_patient) + ';' + Nom + ';' + Prenom + ';;' + DateNaissance + ';' + str(Praticien))"
   ],
   "metadata": {
    "collapsed": false,
    "pycharm": {
     "name": "#%%\n"
    }
   }
  },
  {
   "cell_type": "code",
   "execution_count": 239,
   "outputs": [
    {
     "ename": "TypeError",
     "evalue": "DataFrame.__init__() got an unexpected keyword argument 'sep'",
     "output_type": "error",
     "traceback": [
      "\u001B[1;31m---------------------------------------------------------------------------\u001B[0m",
      "\u001B[1;31mTypeError\u001B[0m                                 Traceback (most recent call last)",
      "Cell \u001B[1;32mIn [239], line 1\u001B[0m\n\u001B[1;32m----> 1\u001B[0m \u001B[43mpd\u001B[49m\u001B[38;5;241;43m.\u001B[39;49m\u001B[43mDataFrame\u001B[49m\u001B[43m(\u001B[49m\u001B[43mbd_patient\u001B[49m\u001B[43m,\u001B[49m\u001B[43m \u001B[49m\u001B[43msep\u001B[49m\u001B[38;5;241;43m=\u001B[39;49m\u001B[38;5;124;43m'\u001B[39;49m\u001B[38;5;124;43m;\u001B[39;49m\u001B[38;5;124;43m'\u001B[39;49m\u001B[43m)\u001B[49m\n",
      "\u001B[1;31mTypeError\u001B[0m: DataFrame.__init__() got an unexpected keyword argument 'sep'"
     ]
    }
   ],
   "source": [
    "pd.DataFrame(bd_patient)"
   ],
   "metadata": {
    "collapsed": false,
    "pycharm": {
     "name": "#%%\n"
    }
   }
  },
  {
   "cell_type": "code",
   "execution_count": 179,
   "outputs": [],
   "source": [
    "# Сохраняем в файл\n",
    "with open('C:\\_Work\\Aurora\\PATFILE.txt', 'w', encoding='utf-16-le') as f:\n",
    "    for line in bd_patient:\n",
    "        f.write(f\"{line}\\n\")"
   ],
   "metadata": {
    "collapsed": false,
    "pycharm": {
     "name": "#%%\n"
    }
   }
  },
  {
   "cell_type": "code",
   "execution_count": 217,
   "outputs": [],
   "source": [
    "# Читаем из файла в массив пандас\n",
    "ff = pd.read_csv('C:\\_Work\\Aurora\\PATFILE.txt', sep=';', encoding='utf-16-le', header=None)"
   ],
   "metadata": {
    "collapsed": false,
    "pycharm": {
     "name": "#%%\n"
    }
   }
  },
  {
   "cell_type": "code",
   "execution_count": 220,
   "outputs": [],
   "source": [
    "ff = ff.sort_values([0]) # Сортируем по ID"
   ],
   "metadata": {
    "collapsed": false,
    "pycharm": {
     "name": "#%%\n"
    }
   }
  },
  {
   "cell_type": "code",
   "execution_count": 149,
   "outputs": [
    {
     "data": {
      "text/plain": "<bound method Index.drop of RangeIndex(start=0, stop=3992, step=1)>"
     },
     "execution_count": 149,
     "metadata": {},
     "output_type": "execute_result"
    }
   ],
   "source": [
    "ff.index.drop # Удаляем индексы"
   ],
   "metadata": {
    "collapsed": false,
    "pycharm": {
     "name": "#%%\n"
    }
   }
  },
  {
   "cell_type": "code",
   "execution_count": 231,
   "outputs": [],
   "source": [
    "ff.set_index(0, inplace=True) # Создаем из ID индексы"
   ],
   "metadata": {
    "collapsed": false,
    "pycharm": {
     "name": "#%%\n"
    }
   }
  },
  {
   "cell_type": "code",
   "execution_count": 233,
   "outputs": [],
   "source": [
    "ff.to_csv('C:\\_Work\\Aurora\\PATFILE_.txt', encoding='utf-16-le', header=None) # Сохраняем уже в отсортированном формате"
   ],
   "metadata": {
    "collapsed": false,
    "pycharm": {
     "name": "#%%\n"
    }
   }
  },
  {
   "cell_type": "code",
   "execution_count": null,
   "outputs": [],
   "source": [
    "ff.close()"
   ],
   "metadata": {
    "collapsed": false,
    "pycharm": {
     "name": "#%%\n"
    }
   }
  }
 ],
 "metadata": {
  "kernelspec": {
   "display_name": "Python 3",
   "language": "python",
   "name": "python3"
  },
  "language_info": {
   "codemirror_mode": {
    "name": "ipython",
    "version": 2
   },
   "file_extension": ".py",
   "mimetype": "text/x-python",
   "name": "python",
   "nbconvert_exporter": "python",
   "pygments_lexer": "ipython2",
   "version": "2.7.6"
  }
 },
 "nbformat": 4,
 "nbformat_minor": 0
}